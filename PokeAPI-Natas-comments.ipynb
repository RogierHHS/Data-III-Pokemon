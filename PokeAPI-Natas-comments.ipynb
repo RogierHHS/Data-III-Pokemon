{
 "cells": [
  {
   "cell_type": "markdown",
   "id": "19309bde-f82f-42df-9b24-3738421b8e82",
   "metadata": {},
   "source": [
    "### Pokemon API"
   ]
  },
  {
   "cell_type": "code",
   "execution_count": null,
   "id": "30f62910-d6cc-4725-a49b-134b26ac2fb5",
   "metadata": {},
   "outputs": [],
   "source": [
    "import numpy as np\n",
    "import pandas as pd\n",
    "import warnings\n",
    "warnings.simplefilter(action='ignore', category=FutureWarning)\n"
   ]
  },
  {
   "cell_type": "markdown",
   "id": "6a4d5966-9a9c-4dfe-962e-2c591e6721e8",
   "metadata": {},
   "source": [
    "Met behulp van de Pokemon API kunnen stats over Pokemon worden verkregen. Hiervoor is een request nodig. Met behulp van een request wordt de benodigde data opgevraagd. In de codecell hieronder vindt u een vraag om de hoeveelheid Pokemon. De hoeveelheid Pokemon in de database wordt teruggegeven aan de hand van de sleutel \"count\". Dit is een van de types die je op kunt halen in de APIResourceList (PokeAPI. (n.d.).).\n",
    "Er wordt overigens een json-file teruggegeven. Dit is een veelgebruikt format om gestructureerde tekstuele data van internetbronnen te verkrijgen.\n"
   ]
  },
  {
   "cell_type": "code",
   "execution_count": null,
   "id": "4d9f9030-c40c-4f1d-911c-22e724ff7e11",
   "metadata": {},
   "outputs": [],
   "source": [
    "import requests\n",
    "\n",
    "def get_total_pokemon_count():\n",
    "    base_url = \"https://pokeapi.co/api/v2/pokemon/\"\n",
    "    response = requests.get(base_url)\n",
    "    data = response.json()\n",
    "    return data[\"count\"]\n",
    "\n",
    "total_pokemon = get_total_pokemon_count()\n",
    "print(f\"Totaal aantal Pokémon: {total_pokemon}\")\n"
   ]
  },
  {
   "cell_type": "markdown",
   "id": "7fde0c2b-8afe-4be4-88f6-1f0dfca56eff",
   "metadata": {},
   "source": [
    "De onderstaande code geeft over de Pokemon uit de API-app eigenschappen per Pokemon terug. Het id-nummer, de naam, het gewicht, het type pokemon, de stats en de mogelijke moves van die Pokemon owrden teruggegeven. De stats voor de Pokemon worden een voor een opgehaald. Als er geen volgende pokemon is, wat wordt gecheckt door middel van het APIresource type command \"next\" ( (PokeAPI. (n.d.).).), wordt er een DataFrame teruggegeven dat de gewilde statistieken bevat. Wij hebben voor deze statistieken in dit hoofdstuk gekozen, omdat de andere hoofdstukken al andere stats opvragen. Door te werken met een DataFrame kunnen wij de andere statistieken die op de andere manieren zijn verkregen relatief eenvoudig toevoegen aan een overkoepelend DataFrame. "
   ]
  },
  {
   "cell_type": "code",
   "execution_count": null,
   "id": "37ebd8bf-0911-4b04-bd82-be49fe38cfea",
   "metadata": {},
   "outputs": [],
   "source": [
    "import requests\n",
    "import pandas as pd\n",
    "\n",
    "def get_all_pokemon_data():\n",
    "    base_url = \"https://pokeapi.co/api/v2/pokemon/\"\n",
    "    all_data = []\n",
    "    offset = 0\n",
    "    limit = 100\n",
    "\n",
    "    while True:\n",
    "        response = requests.get(f\"{base_url}?limit={limit}&offset={offset}\")\n",
    "        response_data = response.json()\n",
    "        pokemon_list = response_data[\"results\"]\n",
    "\n",
    "        for pokemon in pokemon_list:\n",
    "            try:\n",
    "                pokemon_data = requests.get(pokemon[\"url\"]).json()\n",
    "                pokemon_entry = {\n",
    "                    \"id\": pokemon_data[\"id\"],\n",
    "                    \"name\": pokemon_data[\"name\"],\n",
    "                    \"weight\": pokemon_data[\"weight\"],\n",
    "                    \"types\": [t[\"type\"][\"name\"] for t in pokemon_data[\"types\"]],\n",
    "                    \"stats\": {stat[\"stat\"][\"name\"]: stat[\"base_stat\"] for stat in pokemon_data[\"stats\"]},\n",
    "                    \"moves\": [move[\"move\"][\"name\"] for move in pokemon_data[\"moves\"]],\n",
    "                }\n",
    "                all_data.append(pokemon_entry)\n",
    "            except Exception as e:\n",
    "                print(f\"Fout bij ophalen van {pokemon['name']}: {e}\")\n",
    "\n",
    "        if response_data[\"next\"] is None:\n",
    "            break\n",
    "        else:\n",
    "            offset += limit\n",
    "\n",
    "    return pd.DataFrame(all_data)\n",
    "\n",
    "\n",
    "df_all_pokemon = get_all_pokemon_data()\n",
    "print(df_all_pokemon.head())  \n"
   ]
  },
  {
   "cell_type": "code",
   "execution_count": null,
   "id": "69db5231-ba7b-4a65-b350-0372a3a477e3",
   "metadata": {},
   "outputs": [],
   "source": [
    "df_all_pokemon"
   ]
  },
  {
   "cell_type": "code",
   "execution_count": null,
   "id": "bc941466-9c63-40a7-a2ed-82243a49c432",
   "metadata": {},
   "outputs": [],
   "source": [
    "def split_types(df):\n",
    "    \"\"\"\n",
    "    Splits the 'types' column into two new columns: 'type1' and 'type2'.\n",
    "    \n",
    "    If there is only one type, 'type2' will be assigned NaN.\n",
    "    \n",
    "    Args:\n",
    "    - df (pd.DataFrame): The DataFrame containing the 'types' column as a list.\n",
    "    \n",
    "    Returns:\n",
    "    - pd.DataFrame: The original DataFrame with two new columns: 'type1' and 'type2'.\n",
    "    \"\"\"\n",
    "    df['type1'] = df['types'].apply(lambda x: x[0] if len(x) > 0 else np.nan)\n",
    "    df['type2'] = df['types'].apply(lambda x: x[1] if len(x) > 1 else np.nan)\n",
    "\n",
    "\n",
    "    df = df.drop(columns=['types'])\n",
    "    \n",
    "    return df\n",
    "\n",
    "def split_stats(df):\n",
    "    \"\"\"\n",
    "    Splits the 'stats' column (which is a dictionary) into individual stat columns.\n",
    "    \n",
    "    The stats will be separated into the following columns: 'hp', 'attack', 'defense', \n",
    "    'special-attack', 'special-defense', and 'speed'.\n",
    "    \n",
    "    Args:\n",
    "    - df (pd.DataFrame): The DataFrame containing the 'stats' column as a dictionary.\n",
    "    \n",
    "    Returns:\n",
    "    - pd.DataFrame: The original DataFrame with the individual stat columns.\n",
    "    \"\"\"\n",
    "    # Convert 'stats' dictionary into individual columns\n",
    "    stats_df = df['stats'].apply(pd.Series)\n",
    "    \n",
    "    # Rename columns to match the specific stats\n",
    "    stats_df.columns = ['hp', 'attack', 'defense', 'special-attack', 'special-defense', 'speed']\n",
    "    \n",
    "    # Concatenate the new stat columns with the original DataFrame\n",
    "    df = pd.concat([df, stats_df], axis=1)\n",
    "\n",
    "    \n",
    "    # Drop the original 'stats' column\n",
    "    df = df.drop(columns=['stats'])\n",
    "\n",
    "    return df\n",
    "\n",
    "def create_move_dummies(df):\n",
    "    \"\"\"\n",
    "    Converts the 'moves' column into dummy columns, where each column represents a move, \n",
    "    with values True if the move exists for that Pokémon, and False otherwise.\n",
    "    The new columns are named 'move_[MOVE_NAME]'.\n",
    "    \n",
    "    Args:\n",
    "    - df (pd.DataFrame): The DataFrame containing the 'moves' column as a list of moves.\n",
    "    \n",
    "    Returns:\n",
    "    - pd.DataFrame: The DataFrame with dummy columns for each move, and the original 'moves' column dropped.\n",
    "    \"\"\"\n",
    "    # Get all unique moves across the entire DataFrame\n",
    "    all_moves = set([move for sublist in df['moves'] for move in sublist])\n",
    "    \n",
    "    # Create a dummy column for each move\n",
    "    for move in all_moves:\n",
    "        df[f'move_{move}'] = df['moves'].apply(lambda moves: move in moves)\n",
    "    \n",
    "    # Drop the original 'moves' column\n",
    "    df = df.drop(columns=['moves'])\n",
    "    \n",
    "    return df\n",
    "    \n",
    "df_all_pokemon = split_types(df_all_pokemon)\n",
    "df_all_pokemon = split_stats(df_all_pokemon)\n",
    "df_all_pokemon = create_move_dummies(df_all_pokemon)\n",
    "\n",
    "\n",
    "df_all_pokemon"
   ]
  },
  {
   "cell_type": "markdown",
   "id": "3dd96081-0ccf-40fd-83bf-72119519d1b1",
   "metadata": {},
   "source": [
    "### Bronnenlijst"
   ]
  },
  {
   "cell_type": "markdown",
   "id": "bbde33bd-bc99-44f4-bb39-7421108a4330",
   "metadata": {},
   "source": [
    "PokeAPI. (n.d.). PokeAPI v2 documentation. Van https://pokeapi.co/docs/v2"
   ]
  }
 ],
 "metadata": {
  "kernelspec": {
   "display_name": "Python 3 (ipykernel)",
   "language": "python",
   "name": "python3"
  },
  "language_info": {
   "codemirror_mode": {
    "name": "ipython",
    "version": 3
   },
   "file_extension": ".py",
   "mimetype": "text/x-python",
   "name": "python",
   "nbconvert_exporter": "python",
   "pygments_lexer": "ipython3",
   "version": "3.11.5"
  }
 },
 "nbformat": 4,
 "nbformat_minor": 5
}
