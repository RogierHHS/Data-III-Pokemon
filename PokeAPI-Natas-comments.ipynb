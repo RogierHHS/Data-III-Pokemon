{
 "cells": [
  {
   "cell_type": "markdown",
   "id": "19309bde-f82f-42df-9b24-3738421b8e82",
   "metadata": {},
   "source": [
    "### Pokemon API"
   ]
  },
  {
   "cell_type": "code",
   "execution_count": 1,
   "id": "30f62910-d6cc-4725-a49b-134b26ac2fb5",
   "metadata": {},
   "outputs": [
    {
     "name": "stdout",
     "output_type": "stream",
     "text": [
      "Requirement already satisfied: pandas in c:\\users\\natasja\\appdata\\local\\programs\\python\\python312\\lib\\site-packages (2.2.3)\n",
      "Requirement already satisfied: requests in c:\\users\\natasja\\appdata\\local\\programs\\python\\python312\\lib\\site-packages (2.32.3)\n",
      "Requirement already satisfied: numpy>=1.26.0 in c:\\users\\natasja\\appdata\\local\\programs\\python\\python312\\lib\\site-packages (from pandas) (1.26.4)\n",
      "Requirement already satisfied: python-dateutil>=2.8.2 in c:\\users\\natasja\\appdata\\local\\programs\\python\\python312\\lib\\site-packages (from pandas) (2.9.0.post0)\n",
      "Requirement already satisfied: pytz>=2020.1 in c:\\users\\natasja\\appdata\\local\\programs\\python\\python312\\lib\\site-packages (from pandas) (2024.2)\n",
      "Requirement already satisfied: tzdata>=2022.7 in c:\\users\\natasja\\appdata\\local\\programs\\python\\python312\\lib\\site-packages (from pandas) (2024.1)\n",
      "Requirement already satisfied: charset-normalizer<4,>=2 in c:\\users\\natasja\\appdata\\local\\programs\\python\\python312\\lib\\site-packages (from requests) (3.3.2)\n",
      "Requirement already satisfied: idna<4,>=2.5 in c:\\users\\natasja\\appdata\\local\\programs\\python\\python312\\lib\\site-packages (from requests) (3.8)\n",
      "Requirement already satisfied: urllib3<3,>=1.21.1 in c:\\users\\natasja\\appdata\\local\\programs\\python\\python312\\lib\\site-packages (from requests) (2.2.2)\n",
      "Requirement already satisfied: certifi>=2017.4.17 in c:\\users\\natasja\\appdata\\local\\programs\\python\\python312\\lib\\site-packages (from requests) (2024.8.30)\n",
      "Requirement already satisfied: six>=1.5 in c:\\users\\natasja\\appdata\\local\\programs\\python\\python312\\lib\\site-packages (from python-dateutil>=2.8.2->pandas) (1.16.0)\n",
      "Note: you may need to restart the kernel to use updated packages.\n"
     ]
    },
    {
     "name": "stderr",
     "output_type": "stream",
     "text": [
      "\n",
      "[notice] A new release of pip is available: 24.2 -> 24.3.1\n",
      "[notice] To update, run: python.exe -m pip install --upgrade pip\n"
     ]
    }
   ],
   "source": [
    "pip install pandas requests\n"
   ]
  },
  {
   "cell_type": "markdown",
   "id": "6a4d5966-9a9c-4dfe-962e-2c591e6721e8",
   "metadata": {},
   "source": [
    "Met behulp van de Pokemon API kunnen stats over Pokemon worden verkregen. Hiervoor is een request nodig. Met behulp van een request wordt de benodigde data opgevraagd. In de codecell hieronder vindt u een vraag om de hoeveelheid Pokemon. De hoeveelheid Pokemon in de database wordt teruggegeven aan de hand van de sleutel \"count\". Dit is een van de types die je op kunt halen in de APIResourceList (PokeAPI. (n.d.).).\n",
    "Er wordt overigens een json-file teruggegeven. Dit is een veelgebruikt format om gestructureerde tekstuele data van internetbronnen te verkrijgen.\n"
   ]
  },
  {
   "cell_type": "code",
   "execution_count": 13,
   "id": "4d9f9030-c40c-4f1d-911c-22e724ff7e11",
   "metadata": {},
   "outputs": [
    {
     "name": "stdout",
     "output_type": "stream",
     "text": [
      "Totaal aantal Pokémon: 1302\n"
     ]
    }
   ],
   "source": [
    "import requests\n",
    "\n",
    "def get_total_pokemon_count():\n",
    "    base_url = \"https://pokeapi.co/api/v2/pokemon/\"\n",
    "    response = requests.get(base_url)\n",
    "    data = response.json()\n",
    "    return data[\"count\"]\n",
    "\n",
    "total_pokemon = get_total_pokemon_count()\n",
    "print(f\"Totaal aantal Pokémon: {total_pokemon}\")\n"
   ]
  },
  {
   "cell_type": "markdown",
   "id": "7fde0c2b-8afe-4be4-88f6-1f0dfca56eff",
   "metadata": {},
   "source": [
    "De onderstaande code geeft over de Pokemon uit de API-app eigenschappen per Pokemon terug. Het id-nummer, de naam, het gewicht, het type pokemon, de stats en de mogelijke moves van die Pokemon owrden teruggegeven. De stats voor de Pokemon worden een voor een opgehaald. Als er geen volgende pokemon is, wat wordt gecheckt door middel van het APIresource type command \"next\" ( (PokeAPI. (n.d.).).), wordt er een DataFrame teruggegeven dat de gewilde statistieken bevat. Wij hebben voor deze statistieken in dit hoofdstuk gekozen, omdat de andere hoofdstukken al andere stats opvragen. Door te werken met een DataFrame kunnen wij de andere statistieken die op de andere manieren zijn verkregen relatief eenvoudig toevoegen aan een overkoepelend DataFrame. "
   ]
  },
  {
   "cell_type": "code",
   "execution_count": 18,
   "id": "37ebd8bf-0911-4b04-bd82-be49fe38cfea",
   "metadata": {},
   "outputs": [
    {
     "name": "stdout",
     "output_type": "stream",
     "text": [
      "   id        name  weight            types  \\\n",
      "0   1   bulbasaur      69  [grass, poison]   \n",
      "1   2     ivysaur     130  [grass, poison]   \n",
      "2   3    venusaur    1000  [grass, poison]   \n",
      "3   4  charmander      85           [fire]   \n",
      "4   5  charmeleon     190           [fire]   \n",
      "\n",
      "                                               stats  \\\n",
      "0  {'hp': 45, 'attack': 49, 'defense': 49, 'speci...   \n",
      "1  {'hp': 60, 'attack': 62, 'defense': 63, 'speci...   \n",
      "2  {'hp': 80, 'attack': 82, 'defense': 83, 'speci...   \n",
      "3  {'hp': 39, 'attack': 52, 'defense': 43, 'speci...   \n",
      "4  {'hp': 58, 'attack': 64, 'defense': 58, 'speci...   \n",
      "\n",
      "                                               moves  \n",
      "0  [razor-wind, swords-dance, cut, bind, vine-whi...  \n",
      "1  [swords-dance, cut, bind, vine-whip, headbutt,...  \n",
      "2  [swords-dance, cut, bind, vine-whip, headbutt,...  \n",
      "3  [mega-punch, fire-punch, thunder-punch, scratc...  \n",
      "4  [mega-punch, fire-punch, thunder-punch, scratc...  \n"
     ]
    }
   ],
   "source": [
    "import requests\n",
    "import pandas as pd\n",
    "\n",
    "def get_all_pokemon_data():\n",
    "    base_url = \"https://pokeapi.co/api/v2/pokemon/\"\n",
    "    all_data = []\n",
    "    offset = 0\n",
    "    limit = 100\n",
    "\n",
    "    while True:\n",
    "        response = requests.get(f\"{base_url}?limit={limit}&offset={offset}\")\n",
    "        response_data = response.json()\n",
    "        pokemon_list = response_data[\"results\"]\n",
    "\n",
    "        for pokemon in pokemon_list:\n",
    "            try:\n",
    "                pokemon_data = requests.get(pokemon[\"url\"]).json()\n",
    "                pokemon_entry = {\n",
    "                    \"id\": pokemon_data[\"id\"],\n",
    "                    \"name\": pokemon_data[\"name\"],\n",
    "                    \"weight\": pokemon_data[\"weight\"],\n",
    "                    \"types\": [t[\"type\"][\"name\"] for t in pokemon_data[\"types\"]],\n",
    "                    \"stats\": {stat[\"stat\"][\"name\"]: stat[\"base_stat\"] for stat in pokemon_data[\"stats\"]},\n",
    "                    \"moves\": [move[\"move\"][\"name\"] for move in pokemon_data[\"moves\"]],\n",
    "                }\n",
    "                all_data.append(pokemon_entry)\n",
    "            except Exception as e:\n",
    "                print(f\"Fout bij ophalen van {pokemon['name']}: {e}\")\n",
    "\n",
    "        if response_data[\"next\"] is None:\n",
    "            break\n",
    "        else:\n",
    "            offset += limit\n",
    "\n",
    "    return pd.DataFrame(all_data)\n",
    "\n",
    "\n",
    "df_all_pokemon = get_all_pokemon_data()\n",
    "print(df_all_pokemon.head())  \n"
   ]
  },
  {
   "cell_type": "code",
   "execution_count": null,
   "id": "84de96f1-90cb-41df-9764-2c9a3b76c9e3",
   "metadata": {},
   "outputs": [],
   "source": []
  },
  {
   "cell_type": "code",
   "execution_count": 19,
   "id": "69db5231-ba7b-4a65-b350-0372a3a477e3",
   "metadata": {},
   "outputs": [
    {
     "data": {
      "text/html": [
       "<div>\n",
       "<style scoped>\n",
       "    .dataframe tbody tr th:only-of-type {\n",
       "        vertical-align: middle;\n",
       "    }\n",
       "\n",
       "    .dataframe tbody tr th {\n",
       "        vertical-align: top;\n",
       "    }\n",
       "\n",
       "    .dataframe thead th {\n",
       "        text-align: right;\n",
       "    }\n",
       "</style>\n",
       "<table border=\"1\" class=\"dataframe\">\n",
       "  <thead>\n",
       "    <tr style=\"text-align: right;\">\n",
       "      <th></th>\n",
       "      <th>id</th>\n",
       "      <th>name</th>\n",
       "      <th>weight</th>\n",
       "      <th>types</th>\n",
       "      <th>stats</th>\n",
       "      <th>moves</th>\n",
       "    </tr>\n",
       "  </thead>\n",
       "  <tbody>\n",
       "    <tr>\n",
       "      <th>0</th>\n",
       "      <td>1</td>\n",
       "      <td>bulbasaur</td>\n",
       "      <td>69</td>\n",
       "      <td>[grass, poison]</td>\n",
       "      <td>{'hp': 45, 'attack': 49, 'defense': 49, 'speci...</td>\n",
       "      <td>[razor-wind, swords-dance, cut, bind, vine-whi...</td>\n",
       "    </tr>\n",
       "    <tr>\n",
       "      <th>1</th>\n",
       "      <td>2</td>\n",
       "      <td>ivysaur</td>\n",
       "      <td>130</td>\n",
       "      <td>[grass, poison]</td>\n",
       "      <td>{'hp': 60, 'attack': 62, 'defense': 63, 'speci...</td>\n",
       "      <td>[swords-dance, cut, bind, vine-whip, headbutt,...</td>\n",
       "    </tr>\n",
       "    <tr>\n",
       "      <th>2</th>\n",
       "      <td>3</td>\n",
       "      <td>venusaur</td>\n",
       "      <td>1000</td>\n",
       "      <td>[grass, poison]</td>\n",
       "      <td>{'hp': 80, 'attack': 82, 'defense': 83, 'speci...</td>\n",
       "      <td>[swords-dance, cut, bind, vine-whip, headbutt,...</td>\n",
       "    </tr>\n",
       "    <tr>\n",
       "      <th>3</th>\n",
       "      <td>4</td>\n",
       "      <td>charmander</td>\n",
       "      <td>85</td>\n",
       "      <td>[fire]</td>\n",
       "      <td>{'hp': 39, 'attack': 52, 'defense': 43, 'speci...</td>\n",
       "      <td>[mega-punch, fire-punch, thunder-punch, scratc...</td>\n",
       "    </tr>\n",
       "    <tr>\n",
       "      <th>4</th>\n",
       "      <td>5</td>\n",
       "      <td>charmeleon</td>\n",
       "      <td>190</td>\n",
       "      <td>[fire]</td>\n",
       "      <td>{'hp': 58, 'attack': 64, 'defense': 58, 'speci...</td>\n",
       "      <td>[mega-punch, fire-punch, thunder-punch, scratc...</td>\n",
       "    </tr>\n",
       "    <tr>\n",
       "      <th>...</th>\n",
       "      <td>...</td>\n",
       "      <td>...</td>\n",
       "      <td>...</td>\n",
       "      <td>...</td>\n",
       "      <td>...</td>\n",
       "      <td>...</td>\n",
       "    </tr>\n",
       "    <tr>\n",
       "      <th>1297</th>\n",
       "      <td>10273</td>\n",
       "      <td>ogerpon-wellspring-mask</td>\n",
       "      <td>398</td>\n",
       "      <td>[grass, water]</td>\n",
       "      <td>{'hp': 80, 'attack': 120, 'defense': 84, 'spec...</td>\n",
       "      <td>[swords-dance, slam, vine-whip, double-kick, t...</td>\n",
       "    </tr>\n",
       "    <tr>\n",
       "      <th>1298</th>\n",
       "      <td>10274</td>\n",
       "      <td>ogerpon-hearthflame-mask</td>\n",
       "      <td>398</td>\n",
       "      <td>[grass, fire]</td>\n",
       "      <td>{'hp': 80, 'attack': 120, 'defense': 84, 'spec...</td>\n",
       "      <td>[swords-dance, slam, vine-whip, double-kick, t...</td>\n",
       "    </tr>\n",
       "    <tr>\n",
       "      <th>1299</th>\n",
       "      <td>10275</td>\n",
       "      <td>ogerpon-cornerstone-mask</td>\n",
       "      <td>398</td>\n",
       "      <td>[grass, rock]</td>\n",
       "      <td>{'hp': 80, 'attack': 120, 'defense': 84, 'spec...</td>\n",
       "      <td>[swords-dance, slam, vine-whip, double-kick, t...</td>\n",
       "    </tr>\n",
       "    <tr>\n",
       "      <th>1300</th>\n",
       "      <td>10276</td>\n",
       "      <td>terapagos-terastal</td>\n",
       "      <td>160</td>\n",
       "      <td>[normal]</td>\n",
       "      <td>{'hp': 95, 'attack': 95, 'defense': 110, 'spec...</td>\n",
       "      <td>[headbutt, body-slam, take-down, double-edge, ...</td>\n",
       "    </tr>\n",
       "    <tr>\n",
       "      <th>1301</th>\n",
       "      <td>10277</td>\n",
       "      <td>terapagos-stellar</td>\n",
       "      <td>770</td>\n",
       "      <td>[normal]</td>\n",
       "      <td>{'hp': 95, 'attack': 95, 'defense': 110, 'spec...</td>\n",
       "      <td>[headbutt, body-slam, take-down, double-edge, ...</td>\n",
       "    </tr>\n",
       "  </tbody>\n",
       "</table>\n",
       "<p>1302 rows × 6 columns</p>\n",
       "</div>"
      ],
      "text/plain": [
       "         id                      name  weight            types  \\\n",
       "0         1                 bulbasaur      69  [grass, poison]   \n",
       "1         2                   ivysaur     130  [grass, poison]   \n",
       "2         3                  venusaur    1000  [grass, poison]   \n",
       "3         4                charmander      85           [fire]   \n",
       "4         5                charmeleon     190           [fire]   \n",
       "...     ...                       ...     ...              ...   \n",
       "1297  10273   ogerpon-wellspring-mask     398   [grass, water]   \n",
       "1298  10274  ogerpon-hearthflame-mask     398    [grass, fire]   \n",
       "1299  10275  ogerpon-cornerstone-mask     398    [grass, rock]   \n",
       "1300  10276        terapagos-terastal     160         [normal]   \n",
       "1301  10277         terapagos-stellar     770         [normal]   \n",
       "\n",
       "                                                  stats  \\\n",
       "0     {'hp': 45, 'attack': 49, 'defense': 49, 'speci...   \n",
       "1     {'hp': 60, 'attack': 62, 'defense': 63, 'speci...   \n",
       "2     {'hp': 80, 'attack': 82, 'defense': 83, 'speci...   \n",
       "3     {'hp': 39, 'attack': 52, 'defense': 43, 'speci...   \n",
       "4     {'hp': 58, 'attack': 64, 'defense': 58, 'speci...   \n",
       "...                                                 ...   \n",
       "1297  {'hp': 80, 'attack': 120, 'defense': 84, 'spec...   \n",
       "1298  {'hp': 80, 'attack': 120, 'defense': 84, 'spec...   \n",
       "1299  {'hp': 80, 'attack': 120, 'defense': 84, 'spec...   \n",
       "1300  {'hp': 95, 'attack': 95, 'defense': 110, 'spec...   \n",
       "1301  {'hp': 95, 'attack': 95, 'defense': 110, 'spec...   \n",
       "\n",
       "                                                  moves  \n",
       "0     [razor-wind, swords-dance, cut, bind, vine-whi...  \n",
       "1     [swords-dance, cut, bind, vine-whip, headbutt,...  \n",
       "2     [swords-dance, cut, bind, vine-whip, headbutt,...  \n",
       "3     [mega-punch, fire-punch, thunder-punch, scratc...  \n",
       "4     [mega-punch, fire-punch, thunder-punch, scratc...  \n",
       "...                                                 ...  \n",
       "1297  [swords-dance, slam, vine-whip, double-kick, t...  \n",
       "1298  [swords-dance, slam, vine-whip, double-kick, t...  \n",
       "1299  [swords-dance, slam, vine-whip, double-kick, t...  \n",
       "1300  [headbutt, body-slam, take-down, double-edge, ...  \n",
       "1301  [headbutt, body-slam, take-down, double-edge, ...  \n",
       "\n",
       "[1302 rows x 6 columns]"
      ]
     },
     "execution_count": 19,
     "metadata": {},
     "output_type": "execute_result"
    }
   ],
   "source": [
    "df_all_pokemon"
   ]
  },
  {
   "cell_type": "code",
   "execution_count": 21,
   "id": "bc941466-9c63-40a7-a2ed-82243a49c432",
   "metadata": {},
   "outputs": [
    {
     "data": {
      "text/plain": [
       "(1302, 6)"
      ]
     },
     "execution_count": 21,
     "metadata": {},
     "output_type": "execute_result"
    }
   ],
   "source": [
    "df_all_pokemon.shape"
   ]
  },
  {
   "cell_type": "code",
   "execution_count": null,
   "id": "5c13a35e-f8fb-4d0b-aa76-efdb6956abca",
   "metadata": {},
   "outputs": [],
   "source": []
  },
  {
   "cell_type": "code",
   "execution_count": null,
   "id": "e79ef397-1883-4c82-9107-ae7c0701f700",
   "metadata": {},
   "outputs": [],
   "source": []
  },
  {
   "cell_type": "markdown",
   "id": "3dd96081-0ccf-40fd-83bf-72119519d1b1",
   "metadata": {},
   "source": [
    "### Bronnenlijst"
   ]
  },
  {
   "cell_type": "markdown",
   "id": "bbde33bd-bc99-44f4-bb39-7421108a4330",
   "metadata": {},
   "source": [
    "PokeAPI. (n.d.). PokeAPI v2 documentation. Van https://pokeapi.co/docs/v2"
   ]
  },
  {
   "cell_type": "code",
   "execution_count": null,
   "id": "a7bbb8aa-13ca-4e45-bd76-0b913ed0d5d1",
   "metadata": {},
   "outputs": [],
   "source": []
  }
 ],
 "metadata": {
  "kernelspec": {
   "display_name": "Python 3.11.9",
   "language": "python",
   "name": "python311"
  },
  "language_info": {
   "codemirror_mode": {
    "name": "ipython",
    "version": 3
   },
   "file_extension": ".py",
   "mimetype": "text/x-python",
   "name": "python",
   "nbconvert_exporter": "python",
   "pygments_lexer": "ipython3",
   "version": "3.12.6"
  }
 },
 "nbformat": 4,
 "nbformat_minor": 5
}
